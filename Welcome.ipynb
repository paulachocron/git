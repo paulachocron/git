{
 "cells": [
  {
   "cell_type": "markdown",
   "metadata": {
    "collapsed": true,
    "pycharm": {
     "name": "#%% md\n"
    }
   },
   "source": [
    "# Hello ladies!\n",
    "Welcome to our Github repository. Here you will find some helpful resources to keep\n",
    "developing your skills in Data.\n",
    "\n",
    "Also, you will find all the necessary info regarding our webinars and workshops:\n",
    "- Mentoring program\n",
    "- Intro to Github\n",
    "\n",
    "\n",
    "If you wish to collaborate with us, feel free to send us\n",
    "an email to barcelonachapter@womenindata.org.\n"
   ]
  },
  {
   "cell_type": "code",
   "source": [],
   "metadata": {
    "collapsed": false,
    "pycharm": {
     "name": "#%%\n"
    }
   },
   "execution_count": null,
   "outputs": []
  }
 ],
 "metadata": {
  "kernelspec": {
   "display_name": "Python 3",
   "language": "python",
   "name": "python3"
  },
  "language_info": {
   "codemirror_mode": {
    "name": "ipython",
    "version": 2
   },
   "file_extension": ".py",
   "mimetype": "text/x-python",
   "name": "python",
   "nbconvert_exporter": "python",
   "pygments_lexer": "ipython2",
   "version": "2.7.6"
  }
 },
 "nbformat": 4,
 "nbformat_minor": 0
}